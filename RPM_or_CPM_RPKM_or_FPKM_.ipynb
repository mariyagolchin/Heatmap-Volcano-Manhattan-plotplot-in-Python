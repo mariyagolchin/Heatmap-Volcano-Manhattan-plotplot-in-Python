{
  "nbformat": 4,
  "nbformat_minor": 0,
  "metadata": {
    "colab": {
      "name": "RPM or CPM-RPKM or FPKM .ipynb",
      "provenance": [],
      "authorship_tag": "ABX9TyOcHBs/TraH1l0rM5tskksv",
      "include_colab_link": true
    },
    "kernelspec": {
      "name": "python3",
      "display_name": "Python 3"
    },
    "language_info": {
      "name": "python"
    }
  },
  "cells": [
    {
      "cell_type": "markdown",
      "metadata": {
        "id": "view-in-github",
        "colab_type": "text"
      },
      "source": [
        "<a href=\"https://colab.research.google.com/github/mariyagolchin/Heatmap-Volcano-Manhattan-plotplot-in-Python/blob/main/RPM_or_CPM_RPKM_or_FPKM_.ipynb\" target=\"_parent\"><img src=\"https://colab.research.google.com/assets/colab-badge.svg\" alt=\"Open In Colab\"/></a>"
      ]
    },
    {
      "cell_type": "markdown",
      "metadata": {
        "id": "le-IB7_n5un2"
      },
      "source": [
        "# **RPM or CPM-RPKM or FPKM **\n",
        "https://www.reneshbedre.com/blog/expression_units.html\n"
      ]
    },
    {
      "cell_type": "code",
      "metadata": {
        "colab": {
          "base_uri": "https://localhost:8080/"
        },
        "id": "k8Eg9PZn3QNs",
        "outputId": "24971792-daf9-4634-ffc1-51672e45a731"
      },
      "source": [
        "pip install bioinfokit"
      ],
      "execution_count": 2,
      "outputs": [
        {
          "output_type": "stream",
          "text": [
            "Collecting bioinfokit\n",
            "\u001b[?25l  Downloading https://files.pythonhosted.org/packages/22/98/b48976d1c2cc8cc455db68d7e18a9d56294e965da7eb7f5fab62d9b346e5/bioinfokit-2.0.3.tar.gz (81kB)\n",
            "\r\u001b[K     |████                            | 10kB 15.4MB/s eta 0:00:01\r\u001b[K     |████████                        | 20kB 21.9MB/s eta 0:00:01\r\u001b[K     |████████████                    | 30kB 23.0MB/s eta 0:00:01\r\u001b[K     |████████████████                | 40kB 20.7MB/s eta 0:00:01\r\u001b[K     |████████████████████            | 51kB 23.1MB/s eta 0:00:01\r\u001b[K     |████████████████████████        | 61kB 19.8MB/s eta 0:00:01\r\u001b[K     |████████████████████████████    | 71kB 21.2MB/s eta 0:00:01\r\u001b[K     |████████████████████████████████| 81kB 7.1MB/s \n",
            "\u001b[?25hRequirement already satisfied: pandas in /usr/local/lib/python3.7/dist-packages (from bioinfokit) (1.1.5)\n",
            "Requirement already satisfied: numpy in /usr/local/lib/python3.7/dist-packages (from bioinfokit) (1.19.5)\n",
            "Requirement already satisfied: matplotlib in /usr/local/lib/python3.7/dist-packages (from bioinfokit) (3.2.2)\n",
            "Requirement already satisfied: scipy in /usr/local/lib/python3.7/dist-packages (from bioinfokit) (1.4.1)\n",
            "Requirement already satisfied: scikit-learn in /usr/local/lib/python3.7/dist-packages (from bioinfokit) (0.22.2.post1)\n",
            "Requirement already satisfied: seaborn in /usr/local/lib/python3.7/dist-packages (from bioinfokit) (0.11.1)\n",
            "Requirement already satisfied: matplotlib-venn in /usr/local/lib/python3.7/dist-packages (from bioinfokit) (0.11.6)\n",
            "Requirement already satisfied: tabulate in /usr/local/lib/python3.7/dist-packages (from bioinfokit) (0.8.9)\n",
            "Requirement already satisfied: statsmodels in /usr/local/lib/python3.7/dist-packages (from bioinfokit) (0.10.2)\n",
            "Collecting textwrap3\n",
            "  Downloading https://files.pythonhosted.org/packages/77/9c/a53e561d496ee5866bbeea4d3a850b3b545ed854f8a21007c1e0d872e94d/textwrap3-0.9.2-py2.py3-none-any.whl\n",
            "Collecting adjustText\n",
            "  Downloading https://files.pythonhosted.org/packages/9e/15/4157718bf323fd5f5b81c891c660d0f388e042d2689a558bf1389632dc44/adjustText-0.7.3.tar.gz\n",
            "Requirement already satisfied: pytz>=2017.2 in /usr/local/lib/python3.7/dist-packages (from pandas->bioinfokit) (2018.9)\n",
            "Requirement already satisfied: python-dateutil>=2.7.3 in /usr/local/lib/python3.7/dist-packages (from pandas->bioinfokit) (2.8.1)\n",
            "Requirement already satisfied: cycler>=0.10 in /usr/local/lib/python3.7/dist-packages (from matplotlib->bioinfokit) (0.10.0)\n",
            "Requirement already satisfied: kiwisolver>=1.0.1 in /usr/local/lib/python3.7/dist-packages (from matplotlib->bioinfokit) (1.3.1)\n",
            "Requirement already satisfied: pyparsing!=2.0.4,!=2.1.2,!=2.1.6,>=2.0.1 in /usr/local/lib/python3.7/dist-packages (from matplotlib->bioinfokit) (2.4.7)\n",
            "Requirement already satisfied: joblib>=0.11 in /usr/local/lib/python3.7/dist-packages (from scikit-learn->bioinfokit) (1.0.1)\n",
            "Requirement already satisfied: patsy>=0.4.0 in /usr/local/lib/python3.7/dist-packages (from statsmodels->bioinfokit) (0.5.1)\n",
            "Requirement already satisfied: six>=1.5 in /usr/local/lib/python3.7/dist-packages (from python-dateutil>=2.7.3->pandas->bioinfokit) (1.15.0)\n",
            "Building wheels for collected packages: bioinfokit, adjustText\n",
            "  Building wheel for bioinfokit (setup.py) ... \u001b[?25l\u001b[?25hdone\n",
            "  Created wheel for bioinfokit: filename=bioinfokit-2.0.3-cp37-none-any.whl size=55622 sha256=486102c30ada8a4d4ddc3018f44a4d0094bcb50d65abd34fa2ec3ad8c9bc765e\n",
            "  Stored in directory: /root/.cache/pip/wheels/94/f6/36/f2562d2c83714b882d83a97e56925b363c7b7a4a9eba9d64ad\n",
            "  Building wheel for adjustText (setup.py) ... \u001b[?25l\u001b[?25hdone\n",
            "  Created wheel for adjustText: filename=adjustText-0.7.3-cp37-none-any.whl size=7100 sha256=83ef3a6b403ce89d2f2fe7fdb657f542da6e8379d6a6bad7111bc5dd292a0836\n",
            "  Stored in directory: /root/.cache/pip/wheels/41/95/74/7d347e136d672f8bc28e937032bc92baf4f80856763a7e7b72\n",
            "Successfully built bioinfokit adjustText\n",
            "Installing collected packages: textwrap3, adjustText, bioinfokit\n",
            "Successfully installed adjustText-0.7.3 bioinfokit-2.0.3 textwrap3-0.9.2\n"
          ],
          "name": "stdout"
        }
      ]
    },
    {
      "cell_type": "code",
      "metadata": {
        "colab": {
          "base_uri": "https://localhost:8080/",
          "height": 198
        },
        "id": "Pw901b-I3Em6",
        "outputId": "faf22178-1947-4aa3-aa22-561af8dd58ba"
      },
      "source": [
        "# RPM or CPM normalization using Python bioinfokit (v0.9.1 or later) package,\n",
        "\n",
        "# I am using interactive python interpreter (Python 3.7.4)\n",
        "from bioinfokit.analys import norm, get_data\n",
        "# load sugarcane RNA-seq expression dataset (Published in Bedre et al., 2019)\n",
        "df = get_data('sc_exp').data\n",
        "df.head()"
      ],
      "execution_count": 11,
      "outputs": [
        {
          "output_type": "execute_result",
          "data": {
            "text/html": [
              "<div>\n",
              "<style scoped>\n",
              "    .dataframe tbody tr th:only-of-type {\n",
              "        vertical-align: middle;\n",
              "    }\n",
              "\n",
              "    .dataframe tbody tr th {\n",
              "        vertical-align: top;\n",
              "    }\n",
              "\n",
              "    .dataframe thead th {\n",
              "        text-align: right;\n",
              "    }\n",
              "</style>\n",
              "<table border=\"1\" class=\"dataframe\">\n",
              "  <thead>\n",
              "    <tr style=\"text-align: right;\">\n",
              "      <th></th>\n",
              "      <th>gene</th>\n",
              "      <th>ctr1</th>\n",
              "      <th>ctr2</th>\n",
              "      <th>ctr3</th>\n",
              "      <th>trt1</th>\n",
              "      <th>trt2</th>\n",
              "      <th>trt3</th>\n",
              "      <th>length</th>\n",
              "    </tr>\n",
              "  </thead>\n",
              "  <tbody>\n",
              "    <tr>\n",
              "      <th>0</th>\n",
              "      <td>Sobic.001G000200</td>\n",
              "      <td>338</td>\n",
              "      <td>324</td>\n",
              "      <td>246</td>\n",
              "      <td>291</td>\n",
              "      <td>202</td>\n",
              "      <td>168</td>\n",
              "      <td>1982.0</td>\n",
              "    </tr>\n",
              "    <tr>\n",
              "      <th>1</th>\n",
              "      <td>Sobic.001G000400</td>\n",
              "      <td>49</td>\n",
              "      <td>21</td>\n",
              "      <td>53</td>\n",
              "      <td>16</td>\n",
              "      <td>16</td>\n",
              "      <td>11</td>\n",
              "      <td>4769.0</td>\n",
              "    </tr>\n",
              "    <tr>\n",
              "      <th>2</th>\n",
              "      <td>Sobic.001G000700</td>\n",
              "      <td>39</td>\n",
              "      <td>49</td>\n",
              "      <td>30</td>\n",
              "      <td>46</td>\n",
              "      <td>52</td>\n",
              "      <td>25</td>\n",
              "      <td>1096.0</td>\n",
              "    </tr>\n",
              "    <tr>\n",
              "      <th>3</th>\n",
              "      <td>Sobic.001G000800</td>\n",
              "      <td>530</td>\n",
              "      <td>530</td>\n",
              "      <td>499</td>\n",
              "      <td>499</td>\n",
              "      <td>386</td>\n",
              "      <td>264</td>\n",
              "      <td>3868.0</td>\n",
              "    </tr>\n",
              "    <tr>\n",
              "      <th>4</th>\n",
              "      <td>Sobic.001G001000</td>\n",
              "      <td>12</td>\n",
              "      <td>3</td>\n",
              "      <td>4</td>\n",
              "      <td>3</td>\n",
              "      <td>10</td>\n",
              "      <td>7</td>\n",
              "      <td>702.0</td>\n",
              "    </tr>\n",
              "  </tbody>\n",
              "</table>\n",
              "</div>"
            ],
            "text/plain": [
              "               gene  ctr1  ctr2  ctr3  trt1  trt2  trt3  length\n",
              "0  Sobic.001G000200   338   324   246   291   202   168  1982.0\n",
              "1  Sobic.001G000400    49    21    53    16    16    11  4769.0\n",
              "2  Sobic.001G000700    39    49    30    46    52    25  1096.0\n",
              "3  Sobic.001G000800   530   530   499   499   386   264  3868.0\n",
              "4  Sobic.001G001000    12     3     4     3    10     7   702.0"
            ]
          },
          "metadata": {
            "tags": []
          },
          "execution_count": 11
        }
      ]
    },
    {
      "cell_type": "markdown",
      "metadata": {
        "id": "eMRA_bT15BuG"
      },
      "source": [
        "# **RPM or CPM normalization using Python**"
      ]
    },
    {
      "cell_type": "code",
      "metadata": {
        "colab": {
          "base_uri": "https://localhost:8080/",
          "height": 228
        },
        "id": "CJA4aVs63enZ",
        "outputId": "7c4652bc-8c33-4053-f625-a09d9c912bb2"
      },
      "source": [
        "# as this data has gene length column, we will drop length column\n",
        "df = df.drop(['length'], axis=1)\n",
        "# make gene column as index column\n",
        "df = df.set_index('gene')\n",
        "df.head()"
      ],
      "execution_count": 12,
      "outputs": [
        {
          "output_type": "execute_result",
          "data": {
            "text/html": [
              "<div>\n",
              "<style scoped>\n",
              "    .dataframe tbody tr th:only-of-type {\n",
              "        vertical-align: middle;\n",
              "    }\n",
              "\n",
              "    .dataframe tbody tr th {\n",
              "        vertical-align: top;\n",
              "    }\n",
              "\n",
              "    .dataframe thead th {\n",
              "        text-align: right;\n",
              "    }\n",
              "</style>\n",
              "<table border=\"1\" class=\"dataframe\">\n",
              "  <thead>\n",
              "    <tr style=\"text-align: right;\">\n",
              "      <th></th>\n",
              "      <th>ctr1</th>\n",
              "      <th>ctr2</th>\n",
              "      <th>ctr3</th>\n",
              "      <th>trt1</th>\n",
              "      <th>trt2</th>\n",
              "      <th>trt3</th>\n",
              "    </tr>\n",
              "    <tr>\n",
              "      <th>gene</th>\n",
              "      <th></th>\n",
              "      <th></th>\n",
              "      <th></th>\n",
              "      <th></th>\n",
              "      <th></th>\n",
              "      <th></th>\n",
              "    </tr>\n",
              "  </thead>\n",
              "  <tbody>\n",
              "    <tr>\n",
              "      <th>Sobic.001G000200</th>\n",
              "      <td>338</td>\n",
              "      <td>324</td>\n",
              "      <td>246</td>\n",
              "      <td>291</td>\n",
              "      <td>202</td>\n",
              "      <td>168</td>\n",
              "    </tr>\n",
              "    <tr>\n",
              "      <th>Sobic.001G000400</th>\n",
              "      <td>49</td>\n",
              "      <td>21</td>\n",
              "      <td>53</td>\n",
              "      <td>16</td>\n",
              "      <td>16</td>\n",
              "      <td>11</td>\n",
              "    </tr>\n",
              "    <tr>\n",
              "      <th>Sobic.001G000700</th>\n",
              "      <td>39</td>\n",
              "      <td>49</td>\n",
              "      <td>30</td>\n",
              "      <td>46</td>\n",
              "      <td>52</td>\n",
              "      <td>25</td>\n",
              "    </tr>\n",
              "    <tr>\n",
              "      <th>Sobic.001G000800</th>\n",
              "      <td>530</td>\n",
              "      <td>530</td>\n",
              "      <td>499</td>\n",
              "      <td>499</td>\n",
              "      <td>386</td>\n",
              "      <td>264</td>\n",
              "    </tr>\n",
              "    <tr>\n",
              "      <th>Sobic.001G001000</th>\n",
              "      <td>12</td>\n",
              "      <td>3</td>\n",
              "      <td>4</td>\n",
              "      <td>3</td>\n",
              "      <td>10</td>\n",
              "      <td>7</td>\n",
              "    </tr>\n",
              "  </tbody>\n",
              "</table>\n",
              "</div>"
            ],
            "text/plain": [
              "                  ctr1  ctr2  ctr3  trt1  trt2  trt3\n",
              "gene                                                \n",
              "Sobic.001G000200   338   324   246   291   202   168\n",
              "Sobic.001G000400    49    21    53    16    16    11\n",
              "Sobic.001G000700    39    49    30    46    52    25\n",
              "Sobic.001G000800   530   530   499   499   386   264\n",
              "Sobic.001G001000    12     3     4     3    10     7"
            ]
          },
          "metadata": {
            "tags": []
          },
          "execution_count": 12
        }
      ]
    },
    {
      "cell_type": "code",
      "metadata": {
        "colab": {
          "base_uri": "https://localhost:8080/",
          "height": 228
        },
        "id": "ME3Xxt_G4ynp",
        "outputId": "1db0723e-90d6-4963-ae3d-08e110d6ae32"
      },
      "source": [
        "# now, normalize raw counts using CPM method \n",
        "nm = norm()\n",
        "nm.cpm(df=df)\n",
        "# get CPM normalized dataframe\n",
        "cpm_df = nm.cpm_norm\n",
        "cpm_df.head()"
      ],
      "execution_count": 13,
      "outputs": [
        {
          "output_type": "execute_result",
          "data": {
            "text/html": [
              "<div>\n",
              "<style scoped>\n",
              "    .dataframe tbody tr th:only-of-type {\n",
              "        vertical-align: middle;\n",
              "    }\n",
              "\n",
              "    .dataframe tbody tr th {\n",
              "        vertical-align: top;\n",
              "    }\n",
              "\n",
              "    .dataframe thead th {\n",
              "        text-align: right;\n",
              "    }\n",
              "</style>\n",
              "<table border=\"1\" class=\"dataframe\">\n",
              "  <thead>\n",
              "    <tr style=\"text-align: right;\">\n",
              "      <th></th>\n",
              "      <th>ctr1</th>\n",
              "      <th>ctr2</th>\n",
              "      <th>ctr3</th>\n",
              "      <th>trt1</th>\n",
              "      <th>trt2</th>\n",
              "      <th>trt3</th>\n",
              "    </tr>\n",
              "    <tr>\n",
              "      <th>gene</th>\n",
              "      <th></th>\n",
              "      <th></th>\n",
              "      <th></th>\n",
              "      <th></th>\n",
              "      <th></th>\n",
              "      <th></th>\n",
              "    </tr>\n",
              "  </thead>\n",
              "  <tbody>\n",
              "    <tr>\n",
              "      <th>Sobic.001G000200</th>\n",
              "      <td>100.695004</td>\n",
              "      <td>101.731189</td>\n",
              "      <td>74.721094</td>\n",
              "      <td>92.633828</td>\n",
              "      <td>74.270713</td>\n",
              "      <td>95.314714</td>\n",
              "    </tr>\n",
              "    <tr>\n",
              "      <th>Sobic.001G000400</th>\n",
              "      <td>14.597796</td>\n",
              "      <td>6.593688</td>\n",
              "      <td>16.098447</td>\n",
              "      <td>5.093269</td>\n",
              "      <td>5.882829</td>\n",
              "      <td>6.240844</td>\n",
              "    </tr>\n",
              "    <tr>\n",
              "      <th>Sobic.001G000700</th>\n",
              "      <td>11.618654</td>\n",
              "      <td>15.385272</td>\n",
              "      <td>9.112329</td>\n",
              "      <td>14.643148</td>\n",
              "      <td>19.119193</td>\n",
              "      <td>14.183737</td>\n",
              "    </tr>\n",
              "    <tr>\n",
              "      <th>Sobic.001G000800</th>\n",
              "      <td>157.894533</td>\n",
              "      <td>166.412129</td>\n",
              "      <td>151.568399</td>\n",
              "      <td>158.846324</td>\n",
              "      <td>141.923244</td>\n",
              "      <td>149.780266</td>\n",
              "    </tr>\n",
              "    <tr>\n",
              "      <th>Sobic.001G001000</th>\n",
              "      <td>3.574971</td>\n",
              "      <td>0.941955</td>\n",
              "      <td>1.214977</td>\n",
              "      <td>0.954988</td>\n",
              "      <td>3.676768</td>\n",
              "      <td>3.971446</td>\n",
              "    </tr>\n",
              "  </tbody>\n",
              "</table>\n",
              "</div>"
            ],
            "text/plain": [
              "                        ctr1        ctr2  ...        trt2        trt3\n",
              "gene                                      ...                        \n",
              "Sobic.001G000200  100.695004  101.731189  ...   74.270713   95.314714\n",
              "Sobic.001G000400   14.597796    6.593688  ...    5.882829    6.240844\n",
              "Sobic.001G000700   11.618654   15.385272  ...   19.119193   14.183737\n",
              "Sobic.001G000800  157.894533  166.412129  ...  141.923244  149.780266\n",
              "Sobic.001G001000    3.574971    0.941955  ...    3.676768    3.971446\n",
              "\n",
              "[5 rows x 6 columns]"
            ]
          },
          "metadata": {
            "tags": []
          },
          "execution_count": 13
        }
      ]
    },
    {
      "cell_type": "code",
      "metadata": {
        "colab": {
          "base_uri": "https://localhost:8080/",
          "height": 108
        },
        "id": "RMRPTCND5D1y",
        "outputId": "0c474cab-25af-459d-9f78-cda4844ecd07"
      },
      "source": [
        "from bioinfokit.analys import norm, get_data\n",
        "# load sugarcane RNA-seq expression dataset (Published in Bedre et al., 2019)\n",
        "df = get_data('sc_exp').data\n",
        "df.head(2)\n",
        "# output"
      ],
      "execution_count": 14,
      "outputs": [
        {
          "output_type": "execute_result",
          "data": {
            "text/html": [
              "<div>\n",
              "<style scoped>\n",
              "    .dataframe tbody tr th:only-of-type {\n",
              "        vertical-align: middle;\n",
              "    }\n",
              "\n",
              "    .dataframe tbody tr th {\n",
              "        vertical-align: top;\n",
              "    }\n",
              "\n",
              "    .dataframe thead th {\n",
              "        text-align: right;\n",
              "    }\n",
              "</style>\n",
              "<table border=\"1\" class=\"dataframe\">\n",
              "  <thead>\n",
              "    <tr style=\"text-align: right;\">\n",
              "      <th></th>\n",
              "      <th>gene</th>\n",
              "      <th>ctr1</th>\n",
              "      <th>ctr2</th>\n",
              "      <th>ctr3</th>\n",
              "      <th>trt1</th>\n",
              "      <th>trt2</th>\n",
              "      <th>trt3</th>\n",
              "      <th>length</th>\n",
              "    </tr>\n",
              "  </thead>\n",
              "  <tbody>\n",
              "    <tr>\n",
              "      <th>0</th>\n",
              "      <td>Sobic.001G000200</td>\n",
              "      <td>338</td>\n",
              "      <td>324</td>\n",
              "      <td>246</td>\n",
              "      <td>291</td>\n",
              "      <td>202</td>\n",
              "      <td>168</td>\n",
              "      <td>1982.0</td>\n",
              "    </tr>\n",
              "    <tr>\n",
              "      <th>1</th>\n",
              "      <td>Sobic.001G000400</td>\n",
              "      <td>49</td>\n",
              "      <td>21</td>\n",
              "      <td>53</td>\n",
              "      <td>16</td>\n",
              "      <td>16</td>\n",
              "      <td>11</td>\n",
              "      <td>4769.0</td>\n",
              "    </tr>\n",
              "  </tbody>\n",
              "</table>\n",
              "</div>"
            ],
            "text/plain": [
              "               gene  ctr1  ctr2  ctr3  trt1  trt2  trt3  length\n",
              "0  Sobic.001G000200   338   324   246   291   202   168  1982.0\n",
              "1  Sobic.001G000400    49    21    53    16    16    11  4769.0"
            ]
          },
          "metadata": {
            "tags": []
          },
          "execution_count": 14
        }
      ]
    },
    {
      "cell_type": "code",
      "metadata": {
        "colab": {
          "base_uri": "https://localhost:8080/",
          "height": 138
        },
        "id": "Z1itVK6h5Ozc",
        "outputId": "778faab5-accd-453f-fa38-edeb1ea5dc31"
      },
      "source": [
        "# make gene column as index column\n",
        "df = df.set_index('gene')\n",
        "df.head(2)\n",
        "# output"
      ],
      "execution_count": 15,
      "outputs": [
        {
          "output_type": "execute_result",
          "data": {
            "text/html": [
              "<div>\n",
              "<style scoped>\n",
              "    .dataframe tbody tr th:only-of-type {\n",
              "        vertical-align: middle;\n",
              "    }\n",
              "\n",
              "    .dataframe tbody tr th {\n",
              "        vertical-align: top;\n",
              "    }\n",
              "\n",
              "    .dataframe thead th {\n",
              "        text-align: right;\n",
              "    }\n",
              "</style>\n",
              "<table border=\"1\" class=\"dataframe\">\n",
              "  <thead>\n",
              "    <tr style=\"text-align: right;\">\n",
              "      <th></th>\n",
              "      <th>ctr1</th>\n",
              "      <th>ctr2</th>\n",
              "      <th>ctr3</th>\n",
              "      <th>trt1</th>\n",
              "      <th>trt2</th>\n",
              "      <th>trt3</th>\n",
              "      <th>length</th>\n",
              "    </tr>\n",
              "    <tr>\n",
              "      <th>gene</th>\n",
              "      <th></th>\n",
              "      <th></th>\n",
              "      <th></th>\n",
              "      <th></th>\n",
              "      <th></th>\n",
              "      <th></th>\n",
              "      <th></th>\n",
              "    </tr>\n",
              "  </thead>\n",
              "  <tbody>\n",
              "    <tr>\n",
              "      <th>Sobic.001G000200</th>\n",
              "      <td>338</td>\n",
              "      <td>324</td>\n",
              "      <td>246</td>\n",
              "      <td>291</td>\n",
              "      <td>202</td>\n",
              "      <td>168</td>\n",
              "      <td>1982.0</td>\n",
              "    </tr>\n",
              "    <tr>\n",
              "      <th>Sobic.001G000400</th>\n",
              "      <td>49</td>\n",
              "      <td>21</td>\n",
              "      <td>53</td>\n",
              "      <td>16</td>\n",
              "      <td>16</td>\n",
              "      <td>11</td>\n",
              "      <td>4769.0</td>\n",
              "    </tr>\n",
              "  </tbody>\n",
              "</table>\n",
              "</div>"
            ],
            "text/plain": [
              "                  ctr1  ctr2  ctr3  trt1  trt2  trt3  length\n",
              "gene                                                        \n",
              "Sobic.001G000200   338   324   246   291   202   168  1982.0\n",
              "Sobic.001G000400    49    21    53    16    16    11  4769.0"
            ]
          },
          "metadata": {
            "tags": []
          },
          "execution_count": 15
        }
      ]
    },
    {
      "cell_type": "code",
      "metadata": {
        "colab": {
          "base_uri": "https://localhost:8080/",
          "height": 138
        },
        "id": "rDn0DrO45ZcU",
        "outputId": "772659e5-7554-4b8b-ad7e-9ed1be823579"
      },
      "source": [
        "# now, normalize raw counts using RPKM method\n",
        "# gene length must be in bp\n",
        "nm = norm()\n",
        "nm.rpkm(df=df, gl='length')\n",
        "# get RPKM normalized dataframe\n",
        "rpkm_df = nm.rpkm_norm\n",
        "rpkm_df.head(2)\n",
        "# output"
      ],
      "execution_count": 16,
      "outputs": [
        {
          "output_type": "execute_result",
          "data": {
            "text/html": [
              "<div>\n",
              "<style scoped>\n",
              "    .dataframe tbody tr th:only-of-type {\n",
              "        vertical-align: middle;\n",
              "    }\n",
              "\n",
              "    .dataframe tbody tr th {\n",
              "        vertical-align: top;\n",
              "    }\n",
              "\n",
              "    .dataframe thead th {\n",
              "        text-align: right;\n",
              "    }\n",
              "</style>\n",
              "<table border=\"1\" class=\"dataframe\">\n",
              "  <thead>\n",
              "    <tr style=\"text-align: right;\">\n",
              "      <th></th>\n",
              "      <th>ctr1</th>\n",
              "      <th>ctr2</th>\n",
              "      <th>ctr3</th>\n",
              "      <th>trt1</th>\n",
              "      <th>trt2</th>\n",
              "      <th>trt3</th>\n",
              "    </tr>\n",
              "    <tr>\n",
              "      <th>gene</th>\n",
              "      <th></th>\n",
              "      <th></th>\n",
              "      <th></th>\n",
              "      <th></th>\n",
              "      <th></th>\n",
              "      <th></th>\n",
              "    </tr>\n",
              "  </thead>\n",
              "  <tbody>\n",
              "    <tr>\n",
              "      <th>Sobic.001G000200</th>\n",
              "      <td>50.804745</td>\n",
              "      <td>51.327542</td>\n",
              "      <td>37.699846</td>\n",
              "      <td>46.737552</td>\n",
              "      <td>37.472610</td>\n",
              "      <td>48.090169</td>\n",
              "    </tr>\n",
              "    <tr>\n",
              "      <th>Sobic.001G000400</th>\n",
              "      <td>3.060976</td>\n",
              "      <td>1.382614</td>\n",
              "      <td>3.375644</td>\n",
              "      <td>1.067995</td>\n",
              "      <td>1.233556</td>\n",
              "      <td>1.308627</td>\n",
              "    </tr>\n",
              "  </tbody>\n",
              "</table>\n",
              "</div>"
            ],
            "text/plain": [
              "                       ctr1       ctr2  ...       trt2       trt3\n",
              "gene                                    ...                      \n",
              "Sobic.001G000200  50.804745  51.327542  ...  37.472610  48.090169\n",
              "Sobic.001G000400   3.060976   1.382614  ...   1.233556   1.308627\n",
              "\n",
              "[2 rows x 6 columns]"
            ]
          },
          "metadata": {
            "tags": []
          },
          "execution_count": 16
        }
      ]
    }
  ]
}