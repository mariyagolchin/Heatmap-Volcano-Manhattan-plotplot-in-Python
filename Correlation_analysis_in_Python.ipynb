{
  "nbformat": 4,
  "nbformat_minor": 0,
  "metadata": {
    "colab": {
      "name": "Correlation analysis in Python.ipynb",
      "provenance": [],
      "mount_file_id": "1vEr22B4Iudu5QiuPPrrgpBz06GmYYeu6",
      "authorship_tag": "ABX9TyOzuNTazfdLeJ39DHTvk5s2",
      "include_colab_link": true
    },
    "kernelspec": {
      "name": "python3",
      "display_name": "Python 3"
    },
    "language_info": {
      "name": "python"
    }
  },
  "cells": [
    {
      "cell_type": "markdown",
      "metadata": {
        "id": "view-in-github",
        "colab_type": "text"
      },
      "source": [
        "<a href=\"https://colab.research.google.com/github/mariyagolchin/Heatmap-Volcano-Manhattan-plotplot-in-Python/blob/main/Correlation_analysis_in_Python.ipynb\" target=\"_parent\"><img src=\"https://colab.research.google.com/assets/colab-badge.svg\" alt=\"Open In Colab\"/></a>"
      ]
    },
    {
      "cell_type": "code",
      "metadata": {
        "colab": {
          "base_uri": "https://localhost:8080/"
        },
        "id": "UokPlVJLBOFS",
        "outputId": "1f375276-ab18-489c-f9aa-cc495b677f0a"
      },
      "source": [
        "pip install bioinfokit"
      ],
      "execution_count": 2,
      "outputs": [
        {
          "output_type": "stream",
          "text": [
            "Collecting bioinfokit\n",
            "\u001b[?25l  Downloading https://files.pythonhosted.org/packages/22/98/b48976d1c2cc8cc455db68d7e18a9d56294e965da7eb7f5fab62d9b346e5/bioinfokit-2.0.3.tar.gz (81kB)\n",
            "\r\u001b[K     |████                            | 10kB 14.1MB/s eta 0:00:01\r\u001b[K     |████████                        | 20kB 17.4MB/s eta 0:00:01\r\u001b[K     |████████████                    | 30kB 11.3MB/s eta 0:00:01\r\u001b[K     |████████████████                | 40kB 9.5MB/s eta 0:00:01\r\u001b[K     |████████████████████            | 51kB 7.3MB/s eta 0:00:01\r\u001b[K     |████████████████████████        | 61kB 7.3MB/s eta 0:00:01\r\u001b[K     |████████████████████████████    | 71kB 6.7MB/s eta 0:00:01\r\u001b[K     |████████████████████████████████| 81kB 3.5MB/s \n",
            "\u001b[?25hRequirement already satisfied: pandas in /usr/local/lib/python3.7/dist-packages (from bioinfokit) (1.1.5)\n",
            "Requirement already satisfied: numpy in /usr/local/lib/python3.7/dist-packages (from bioinfokit) (1.19.5)\n",
            "Requirement already satisfied: matplotlib in /usr/local/lib/python3.7/dist-packages (from bioinfokit) (3.2.2)\n",
            "Requirement already satisfied: scipy in /usr/local/lib/python3.7/dist-packages (from bioinfokit) (1.4.1)\n",
            "Requirement already satisfied: scikit-learn in /usr/local/lib/python3.7/dist-packages (from bioinfokit) (0.22.2.post1)\n",
            "Requirement already satisfied: seaborn in /usr/local/lib/python3.7/dist-packages (from bioinfokit) (0.11.1)\n",
            "Requirement already satisfied: matplotlib-venn in /usr/local/lib/python3.7/dist-packages (from bioinfokit) (0.11.6)\n",
            "Requirement already satisfied: tabulate in /usr/local/lib/python3.7/dist-packages (from bioinfokit) (0.8.9)\n",
            "Requirement already satisfied: statsmodels in /usr/local/lib/python3.7/dist-packages (from bioinfokit) (0.10.2)\n",
            "Collecting textwrap3\n",
            "  Downloading https://files.pythonhosted.org/packages/77/9c/a53e561d496ee5866bbeea4d3a850b3b545ed854f8a21007c1e0d872e94d/textwrap3-0.9.2-py2.py3-none-any.whl\n",
            "Collecting adjustText\n",
            "  Downloading https://files.pythonhosted.org/packages/9e/15/4157718bf323fd5f5b81c891c660d0f388e042d2689a558bf1389632dc44/adjustText-0.7.3.tar.gz\n",
            "Requirement already satisfied: python-dateutil>=2.7.3 in /usr/local/lib/python3.7/dist-packages (from pandas->bioinfokit) (2.8.1)\n",
            "Requirement already satisfied: pytz>=2017.2 in /usr/local/lib/python3.7/dist-packages (from pandas->bioinfokit) (2018.9)\n",
            "Requirement already satisfied: cycler>=0.10 in /usr/local/lib/python3.7/dist-packages (from matplotlib->bioinfokit) (0.10.0)\n",
            "Requirement already satisfied: pyparsing!=2.0.4,!=2.1.2,!=2.1.6,>=2.0.1 in /usr/local/lib/python3.7/dist-packages (from matplotlib->bioinfokit) (2.4.7)\n",
            "Requirement already satisfied: kiwisolver>=1.0.1 in /usr/local/lib/python3.7/dist-packages (from matplotlib->bioinfokit) (1.3.1)\n",
            "Requirement already satisfied: joblib>=0.11 in /usr/local/lib/python3.7/dist-packages (from scikit-learn->bioinfokit) (1.0.1)\n",
            "Requirement already satisfied: patsy>=0.4.0 in /usr/local/lib/python3.7/dist-packages (from statsmodels->bioinfokit) (0.5.1)\n",
            "Requirement already satisfied: six>=1.5 in /usr/local/lib/python3.7/dist-packages (from python-dateutil>=2.7.3->pandas->bioinfokit) (1.15.0)\n",
            "Building wheels for collected packages: bioinfokit, adjustText\n",
            "  Building wheel for bioinfokit (setup.py) ... \u001b[?25l\u001b[?25hdone\n",
            "  Created wheel for bioinfokit: filename=bioinfokit-2.0.3-cp37-none-any.whl size=55622 sha256=cb20bb08123cf21e9f7d2557f15faa1b0e17d6793ca7cee8067f896ae31d03bd\n",
            "  Stored in directory: /root/.cache/pip/wheels/94/f6/36/f2562d2c83714b882d83a97e56925b363c7b7a4a9eba9d64ad\n",
            "  Building wheel for adjustText (setup.py) ... \u001b[?25l\u001b[?25hdone\n",
            "  Created wheel for adjustText: filename=adjustText-0.7.3-cp37-none-any.whl size=7100 sha256=1c3cfa5fa87c8d67a8c1105543f12e59616bb1e97de1ffded31a157632c29d66\n",
            "  Stored in directory: /root/.cache/pip/wheels/41/95/74/7d347e136d672f8bc28e937032bc92baf4f80856763a7e7b72\n",
            "Successfully built bioinfokit adjustText\n",
            "Installing collected packages: textwrap3, adjustText, bioinfokit\n",
            "Successfully installed adjustText-0.7.3 bioinfokit-2.0.3 textwrap3-0.9.2\n"
          ],
          "name": "stdout"
        }
      ]
    },
    {
      "cell_type": "code",
      "metadata": {
        "colab": {
          "base_uri": "https://localhost:8080/",
          "height": 218
        },
        "id": "HNAByOM6_yeu",
        "outputId": "a3cf5574-86f8-4264-b558-b205d91be709"
      },
      "source": [
        "# you can use interactive python interpreter, jupyter notebook, spyder or python code\n",
        "# I am using interactive python interpreter (Python 3.7)\n",
        "from bioinfokit import analys, visuz\n",
        "# load dataset as pandas dataframe\n",
        "# data should not have missing values (NaN)\n",
        "# df = analys.get_data('/content/drive/MyDrive/reneshbedre_bioinformatic_dataset/corr_dataset.csv')\n",
        "import pandas as pd\n",
        "df= pd.read_csv('/content/drive/MyDrive/reneshbedre_bioinformatic_dataset/corr_dataset.csv')\n",
        "df.head()"
      ],
      "execution_count": 4,
      "outputs": [
        {
          "output_type": "execute_result",
          "data": {
            "text/html": [
              "<div>\n",
              "<style scoped>\n",
              "    .dataframe tbody tr th:only-of-type {\n",
              "        vertical-align: middle;\n",
              "    }\n",
              "\n",
              "    .dataframe tbody tr th {\n",
              "        vertical-align: top;\n",
              "    }\n",
              "\n",
              "    .dataframe thead th {\n",
              "        text-align: right;\n",
              "    }\n",
              "</style>\n",
              "<table border=\"1\" class=\"dataframe\">\n",
              "  <thead>\n",
              "    <tr style=\"text-align: right;\">\n",
              "      <th></th>\n",
              "      <th>geneid</th>\n",
              "      <th>A</th>\n",
              "      <th>B</th>\n",
              "      <th>C</th>\n",
              "      <th>D</th>\n",
              "      <th>E</th>\n",
              "      <th>F</th>\n",
              "      <th>G</th>\n",
              "      <th>H</th>\n",
              "      <th>I</th>\n",
              "      <th>J</th>\n",
              "      <th>K</th>\n",
              "      <th>L</th>\n",
              "      <th>M</th>\n",
              "      <th>N</th>\n",
              "      <th>O</th>\n",
              "      <th>P</th>\n",
              "      <th>Q</th>\n",
              "      <th>R</th>\n",
              "    </tr>\n",
              "  </thead>\n",
              "  <tbody>\n",
              "    <tr>\n",
              "      <th>0</th>\n",
              "      <td>gene_11788</td>\n",
              "      <td>0.530955</td>\n",
              "      <td>0.0</td>\n",
              "      <td>0.452218</td>\n",
              "      <td>0.0</td>\n",
              "      <td>-0.081783</td>\n",
              "      <td>0.0</td>\n",
              "      <td>0.600653</td>\n",
              "      <td>0.0</td>\n",
              "      <td>0.592926</td>\n",
              "      <td>0.0</td>\n",
              "      <td>-0.006403</td>\n",
              "      <td>0.0</td>\n",
              "      <td>-0.055837</td>\n",
              "      <td>0.0</td>\n",
              "      <td>0.016365</td>\n",
              "      <td>0.0</td>\n",
              "      <td>0.035935</td>\n",
              "      <td>0.0</td>\n",
              "    </tr>\n",
              "    <tr>\n",
              "      <th>1</th>\n",
              "      <td>gene_3172</td>\n",
              "      <td>-0.100497</td>\n",
              "      <td>0.0</td>\n",
              "      <td>0.082000</td>\n",
              "      <td>0.0</td>\n",
              "      <td>0.188021</td>\n",
              "      <td>0.0</td>\n",
              "      <td>0.881326</td>\n",
              "      <td>0.0</td>\n",
              "      <td>0.791600</td>\n",
              "      <td>0.0</td>\n",
              "      <td>-0.091229</td>\n",
              "      <td>0.0</td>\n",
              "      <td>0.655970</td>\n",
              "      <td>0.0</td>\n",
              "      <td>-0.181619</td>\n",
              "      <td>0.0</td>\n",
              "      <td>-0.877352</td>\n",
              "      <td>0.0</td>\n",
              "    </tr>\n",
              "    <tr>\n",
              "      <th>2</th>\n",
              "      <td>gene_10568</td>\n",
              "      <td>-0.037399</td>\n",
              "      <td>0.0</td>\n",
              "      <td>-0.124216</td>\n",
              "      <td>0.0</td>\n",
              "      <td>-0.082652</td>\n",
              "      <td>0.0</td>\n",
              "      <td>-0.290439</td>\n",
              "      <td>0.0</td>\n",
              "      <td>-0.366393</td>\n",
              "      <td>0.0</td>\n",
              "      <td>-0.079134</td>\n",
              "      <td>0.0</td>\n",
              "      <td>-0.063393</td>\n",
              "      <td>0.0</td>\n",
              "      <td>-0.251791</td>\n",
              "      <td>0.0</td>\n",
              "      <td>-0.227313</td>\n",
              "      <td>0.0</td>\n",
              "    </tr>\n",
              "    <tr>\n",
              "      <th>3</th>\n",
              "      <td>gene_7250</td>\n",
              "      <td>0.530852</td>\n",
              "      <td>0.0</td>\n",
              "      <td>1.311357</td>\n",
              "      <td>0.0</td>\n",
              "      <td>0.157159</td>\n",
              "      <td>0.0</td>\n",
              "      <td>1.738840</td>\n",
              "      <td>0.0</td>\n",
              "      <td>2.096964</td>\n",
              "      <td>0.0</td>\n",
              "      <td>0.314536</td>\n",
              "      <td>0.0</td>\n",
              "      <td>3.331255</td>\n",
              "      <td>0.0</td>\n",
              "      <td>4.121092</td>\n",
              "      <td>0.0</td>\n",
              "      <td>0.536099</td>\n",
              "      <td>0.0</td>\n",
              "    </tr>\n",
              "    <tr>\n",
              "      <th>4</th>\n",
              "      <td>gene_9644</td>\n",
              "      <td>-0.034391</td>\n",
              "      <td>0.0</td>\n",
              "      <td>-0.405833</td>\n",
              "      <td>0.0</td>\n",
              "      <td>-0.301649</td>\n",
              "      <td>0.0</td>\n",
              "      <td>1.573004</td>\n",
              "      <td>0.0</td>\n",
              "      <td>1.711126</td>\n",
              "      <td>0.0</td>\n",
              "      <td>0.139358</td>\n",
              "      <td>0.0</td>\n",
              "      <td>0.329918</td>\n",
              "      <td>0.0</td>\n",
              "      <td>3.076992</td>\n",
              "      <td>0.0</td>\n",
              "      <td>2.691966</td>\n",
              "      <td>0.0</td>\n",
              "    </tr>\n",
              "  </tbody>\n",
              "</table>\n",
              "</div>"
            ],
            "text/plain": [
              "       geneid         A    B         C    D  ...    N         O    P         Q    R\n",
              "0  gene_11788  0.530955  0.0  0.452218  0.0  ...  0.0  0.016365  0.0  0.035935  0.0\n",
              "1   gene_3172 -0.100497  0.0  0.082000  0.0  ...  0.0 -0.181619  0.0 -0.877352  0.0\n",
              "2  gene_10568 -0.037399  0.0 -0.124216  0.0  ...  0.0 -0.251791  0.0 -0.227313  0.0\n",
              "3   gene_7250  0.530852  0.0  1.311357  0.0  ...  0.0  4.121092  0.0  0.536099  0.0\n",
              "4   gene_9644 -0.034391  0.0 -0.405833  0.0  ...  0.0  3.076992  0.0  2.691966  0.0\n",
              "\n",
              "[5 rows x 19 columns]"
            ]
          },
          "metadata": {
            "tags": []
          },
          "execution_count": 4
        }
      ]
    },
    {
      "cell_type": "code",
      "metadata": {
        "colab": {
          "base_uri": "https://localhost:8080/",
          "height": 218
        },
        "id": "wCwg66QbBrjc",
        "outputId": "351faec6-3286-4df2-893a-8809ad02bde0"
      },
      "source": [
        "df = df.drop(\"geneid\", 1)\n",
        "df.head()"
      ],
      "execution_count": 5,
      "outputs": [
        {
          "output_type": "execute_result",
          "data": {
            "text/html": [
              "<div>\n",
              "<style scoped>\n",
              "    .dataframe tbody tr th:only-of-type {\n",
              "        vertical-align: middle;\n",
              "    }\n",
              "\n",
              "    .dataframe tbody tr th {\n",
              "        vertical-align: top;\n",
              "    }\n",
              "\n",
              "    .dataframe thead th {\n",
              "        text-align: right;\n",
              "    }\n",
              "</style>\n",
              "<table border=\"1\" class=\"dataframe\">\n",
              "  <thead>\n",
              "    <tr style=\"text-align: right;\">\n",
              "      <th></th>\n",
              "      <th>A</th>\n",
              "      <th>B</th>\n",
              "      <th>C</th>\n",
              "      <th>D</th>\n",
              "      <th>E</th>\n",
              "      <th>F</th>\n",
              "      <th>G</th>\n",
              "      <th>H</th>\n",
              "      <th>I</th>\n",
              "      <th>J</th>\n",
              "      <th>K</th>\n",
              "      <th>L</th>\n",
              "      <th>M</th>\n",
              "      <th>N</th>\n",
              "      <th>O</th>\n",
              "      <th>P</th>\n",
              "      <th>Q</th>\n",
              "      <th>R</th>\n",
              "    </tr>\n",
              "  </thead>\n",
              "  <tbody>\n",
              "    <tr>\n",
              "      <th>0</th>\n",
              "      <td>0.530955</td>\n",
              "      <td>0.0</td>\n",
              "      <td>0.452218</td>\n",
              "      <td>0.0</td>\n",
              "      <td>-0.081783</td>\n",
              "      <td>0.0</td>\n",
              "      <td>0.600653</td>\n",
              "      <td>0.0</td>\n",
              "      <td>0.592926</td>\n",
              "      <td>0.0</td>\n",
              "      <td>-0.006403</td>\n",
              "      <td>0.0</td>\n",
              "      <td>-0.055837</td>\n",
              "      <td>0.0</td>\n",
              "      <td>0.016365</td>\n",
              "      <td>0.0</td>\n",
              "      <td>0.035935</td>\n",
              "      <td>0.0</td>\n",
              "    </tr>\n",
              "    <tr>\n",
              "      <th>1</th>\n",
              "      <td>-0.100497</td>\n",
              "      <td>0.0</td>\n",
              "      <td>0.082000</td>\n",
              "      <td>0.0</td>\n",
              "      <td>0.188021</td>\n",
              "      <td>0.0</td>\n",
              "      <td>0.881326</td>\n",
              "      <td>0.0</td>\n",
              "      <td>0.791600</td>\n",
              "      <td>0.0</td>\n",
              "      <td>-0.091229</td>\n",
              "      <td>0.0</td>\n",
              "      <td>0.655970</td>\n",
              "      <td>0.0</td>\n",
              "      <td>-0.181619</td>\n",
              "      <td>0.0</td>\n",
              "      <td>-0.877352</td>\n",
              "      <td>0.0</td>\n",
              "    </tr>\n",
              "    <tr>\n",
              "      <th>2</th>\n",
              "      <td>-0.037399</td>\n",
              "      <td>0.0</td>\n",
              "      <td>-0.124216</td>\n",
              "      <td>0.0</td>\n",
              "      <td>-0.082652</td>\n",
              "      <td>0.0</td>\n",
              "      <td>-0.290439</td>\n",
              "      <td>0.0</td>\n",
              "      <td>-0.366393</td>\n",
              "      <td>0.0</td>\n",
              "      <td>-0.079134</td>\n",
              "      <td>0.0</td>\n",
              "      <td>-0.063393</td>\n",
              "      <td>0.0</td>\n",
              "      <td>-0.251791</td>\n",
              "      <td>0.0</td>\n",
              "      <td>-0.227313</td>\n",
              "      <td>0.0</td>\n",
              "    </tr>\n",
              "    <tr>\n",
              "      <th>3</th>\n",
              "      <td>0.530852</td>\n",
              "      <td>0.0</td>\n",
              "      <td>1.311357</td>\n",
              "      <td>0.0</td>\n",
              "      <td>0.157159</td>\n",
              "      <td>0.0</td>\n",
              "      <td>1.738840</td>\n",
              "      <td>0.0</td>\n",
              "      <td>2.096964</td>\n",
              "      <td>0.0</td>\n",
              "      <td>0.314536</td>\n",
              "      <td>0.0</td>\n",
              "      <td>3.331255</td>\n",
              "      <td>0.0</td>\n",
              "      <td>4.121092</td>\n",
              "      <td>0.0</td>\n",
              "      <td>0.536099</td>\n",
              "      <td>0.0</td>\n",
              "    </tr>\n",
              "    <tr>\n",
              "      <th>4</th>\n",
              "      <td>-0.034391</td>\n",
              "      <td>0.0</td>\n",
              "      <td>-0.405833</td>\n",
              "      <td>0.0</td>\n",
              "      <td>-0.301649</td>\n",
              "      <td>0.0</td>\n",
              "      <td>1.573004</td>\n",
              "      <td>0.0</td>\n",
              "      <td>1.711126</td>\n",
              "      <td>0.0</td>\n",
              "      <td>0.139358</td>\n",
              "      <td>0.0</td>\n",
              "      <td>0.329918</td>\n",
              "      <td>0.0</td>\n",
              "      <td>3.076992</td>\n",
              "      <td>0.0</td>\n",
              "      <td>2.691966</td>\n",
              "      <td>0.0</td>\n",
              "    </tr>\n",
              "  </tbody>\n",
              "</table>\n",
              "</div>"
            ],
            "text/plain": [
              "          A    B         C    D         E  ...    N         O    P         Q    R\n",
              "0  0.530955  0.0  0.452218  0.0 -0.081783  ...  0.0  0.016365  0.0  0.035935  0.0\n",
              "1 -0.100497  0.0  0.082000  0.0  0.188021  ...  0.0 -0.181619  0.0 -0.877352  0.0\n",
              "2 -0.037399  0.0 -0.124216  0.0 -0.082652  ...  0.0 -0.251791  0.0 -0.227313  0.0\n",
              "3  0.530852  0.0  1.311357  0.0  0.157159  ...  0.0  4.121092  0.0  0.536099  0.0\n",
              "4 -0.034391  0.0 -0.405833  0.0 -0.301649  ...  0.0  3.076992  0.0  2.691966  0.0\n",
              "\n",
              "[5 rows x 18 columns]"
            ]
          },
          "metadata": {
            "tags": []
          },
          "execution_count": 5
        }
      ]
    },
    {
      "cell_type": "code",
      "metadata": {
        "colab": {
          "base_uri": "https://localhost:8080/",
          "height": 589
        },
        "id": "V_miayj2B26o",
        "outputId": "dfda21f9-7d3d-49a8-ed68-745b71e42f0c"
      },
      "source": [
        "# correlation analysis plot\n",
        "visuz.stat.corr_mat(df=df, show=True)\n",
        "# plot will be saved in same directory (corr_mat.png)\n",
        "# set parameter show=True, if you want view the image instead of saving"
      ],
      "execution_count": 6,
      "outputs": [
        {
          "output_type": "display_data",
          "data": {
            "image/png": "[encoded data removed]",
            "text/plain": [
              "<Figure size 432x360 with 1 Axes>"
            ]
          },
          "metadata": {
            "tags": [],
            "needs_background": "light"
          }
        },
        {
          "output_type": "stream",
          "text": [
            "findfont: Font family ['Arial'] not found. Falling back to DejaVu Sans.\n"
          ],
          "name": "stderr"
        },
        {
          "output_type": "display_data",
          "data": {
            "image/png": "[encoded data removed]",
            "text/plain": [
              "<Figure size 288x288 with 2 Axes>"
            ]
          },
          "metadata": {
            "tags": [],
            "needs_background": "light"
          }
        }
      ]
    },
    {
      "cell_type": "code",
      "metadata": {
        "colab": {
          "base_uri": "https://localhost:8080/",
          "height": 571
        },
        "id": "neILC7cgCTjS",
        "outputId": "21869a21-bfc6-41ab-a019-1fd16c8da327"
      },
      "source": [
        "# Change figure format, axis tick label font name and size\n",
        "\n",
        "visuz.stat.corr_mat(df=df, cmap='RdBu', figtype='svg', \n",
        "    axtickfontsize='10', axtickfontname='Verdana', show=True)"
      ],
      "execution_count": 9,
      "outputs": [
        {
          "output_type": "display_data",
          "data": {
            "image/png": "[encoded data removed]",
            "text/plain": [
              "<Figure size 432x360 with 1 Axes>"
            ]
          },
          "metadata": {
            "tags": [],
            "needs_background": "light"
          }
        },
        {
          "output_type": "display_data",
          "data": {
            "image/png": "[encoded data removed]",
            "text/plain": [
              "<Figure size 288x288 with 2 Axes>"
            ]
          },
          "metadata": {
            "tags": [],
            "needs_background": "light"
          }
        }
      ]
    }
  ]
}